{
  "metadata": {
    "kernelspec": {
      "name": "python",
      "display_name": "Pyolite",
      "language": "python"
    },
    "language_info": {
      "codemirror_mode": {
        "name": "python",
        "version": 3
      },
      "file_extension": ".py",
      "mimetype": "text/x-python",
      "name": "python",
      "nbconvert_exporter": "python",
      "pygments_lexer": "ipython3",
      "version": "3.8"
    }
  },
  "nbformat_minor": 4,
  "nbformat": 4,
  "cells": [
    {
      "cell_type": "markdown",
      "source": "# My Jupyter Notebook on IBM Watson Studio",
      "metadata": {}
    },
    {
      "cell_type": "markdown",
      "source": "**AJ**",
      "metadata": {}
    },
    {
      "cell_type": "markdown",
      "source": "*Data science is interesting to me because it pulls from statistics, mathematics, data analysis, programming, and business intelligence. It is hard to get bored*?",
      "metadata": {}
    },
    {
      "cell_type": "markdown",
      "source": "<h3>The code below prints the floor int value of the variable (in this case 5.55).</h3>",
      "metadata": {}
    },
    {
      "cell_type": "code",
      "source": "import math\nvariable = 5.55\nprint(math.floor(variable))",
      "metadata": {
        "trusted": true
      },
      "execution_count": 3,
      "outputs": [
        {
          "name": "stdout",
          "text": "5\n",
          "output_type": "stream"
        }
      ]
    },
    {
      "cell_type": "markdown",
      "source": "**A short story**\n<p>Once upon a time, there was a monkey named Linus who wanted to become an olympic giant slalom skier. He was adequately skilled - there was only one issue - he was considerably lighter than then his homo-sapien competitors. Also, Linux had a thick coat of fur covering his body, which created considerable drag at high speeds. He thought long and hard about it, and came up with the following options for world fame.</p>\n<ul>\n    <li>Weighted ski suit</li>\n    <li>Quit skiing and take up banana farming</li>\n    <li>Become a ski announcer</li>\n</ul>\n\nLinus decided that he'd order the options above as follows:\n<ol>\n    <li>Weighted ski suit</li>\n    <li>Become a ski announcer</li>\n    <li>Quit skiing and take up banana farming</li>\n</ol>\n\n<a href=\"https://www.google.com/url?sa=i&url=https%3A%2F%2Fwww.pbs.org%2Fwnet%2Fnature%2Fgroup%2Fmammals%2Fmonkey%2F&psig=AOvVaw0SiD_QFVbBI0A4Dnwlp2b-&ust=1675453696425000&source=images&cd=vfe&ved=0CA8QjRxqFwoTCMia_sfN9_wCFQAAAAAdAAAAABAD\">See image of Linus here</a>",
      "metadata": {}
    },
    {
      "cell_type": "code",
      "source": "",
      "metadata": {},
      "execution_count": null,
      "outputs": []
    }
  ]
}